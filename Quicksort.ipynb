{
 "cells": [
  {
   "cell_type": "markdown",
   "metadata": {},
   "source": [
    "## Tugas DAA Quicksort"
   ]
  },
  {
   "cell_type": "code",
   "execution_count": 7,
   "metadata": {},
   "outputs": [],
   "source": [
    "def partition(l, bawah, atas):\n",
    "    \n",
    "  pivot = l[bawah]\n",
    "  pos_batas = bawah+1\n",
    "  for j in range(bawah+1,atas):\n",
    "    if l[j] < pivot:\n",
    "      l[pos_batas],l[j]=l[j],l[pos_batas]\n",
    "      pos_batas += 1\n",
    "  l[pos_batas-1],l[bawah] = l[bawah],l[pos_batas-1]\n",
    "  return pos_batas\n",
    "\n",
    "def quicksort(l, bawah, atas):\n",
    "  if atas <= bawah:\n",
    "    return\n",
    "  q = partition(l, bawah, atas)\n",
    "  quicksort(l, bawah, q-1)\n",
    "  quicksort(l, q, atas)\n",
    "  return l"
   ]
  },
  {
   "cell_type": "code",
   "execution_count": 8,
   "metadata": {},
   "outputs": [
    {
     "name": "stdout",
     "output_type": "stream",
     "text": [
      "Sebelum sort = [17, 12, 57, 8, 16, 25]\n",
      "Setelah sort = [8, 12, 16, 17, 25, 57]\n"
     ]
    }
   ],
   "source": [
    "angka = [17, 12, 57, 8, 16, 25]\n",
    "print('Sebelum sort =',angka)\n",
    "quicksort(angka,0,len(angka))\n",
    "print('Setelah sort =',angka)"
   ]
  },
  {
   "cell_type": "code",
   "execution_count": null,
   "metadata": {},
   "outputs": [],
   "source": []
  }
 ],
 "metadata": {
  "kernelspec": {
   "display_name": "Python 3",
   "language": "python",
   "name": "python3"
  },
  "language_info": {
   "codemirror_mode": {
    "name": "ipython",
    "version": 3
   },
   "file_extension": ".py",
   "mimetype": "text/x-python",
   "name": "python",
   "nbconvert_exporter": "python",
   "pygments_lexer": "ipython3",
   "version": "3.8.3"
  }
 },
 "nbformat": 4,
 "nbformat_minor": 4
}
