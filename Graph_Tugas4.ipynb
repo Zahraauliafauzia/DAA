{
 "cells": [
  {
   "cell_type": "code",
   "execution_count": 2,
   "metadata": {},
   "outputs": [],
   "source": [
    "#      o\n",
    "#    /   \\\n",
    "#   /     \\\n",
    "#  p        q\n",
    "#   \\      /\n",
    "#    \\    /\n",
    "#      r\n",
    "#   /     \\\n",
    "#  /       \\\n",
    "# s         t --- u\n",
    "#            \\    /\n",
    "#              v"
   ]
  },
  {
   "cell_type": "markdown",
   "metadata": {},
   "source": [
    "## Membuat graph dengan element V"
   ]
  },
  {
   "cell_type": "code",
   "execution_count": 1,
   "metadata": {},
   "outputs": [
    {
     "name": "stdout",
     "output_type": "stream",
     "text": [
      "{'o': ['p', 'q'], 'p': ['o', 'r'], 'q': ['o', 'r'], 'r': ['s', 't'], 't': ['u', 'v'], 'u': ['t', 'v'], 'v': ['u', 't'], 's': ['r']}\n"
     ]
    }
   ],
   "source": [
    "graph = { \"o\" : [\"p\", \"q\"],\n",
    "          \"p\" : [\"o\", \"r\"],\n",
    "          \"q\" : [\"o\", \"r\"],\n",
    "          \"r\" : [\"s\", \"t\"],\n",
    "          \"t\" : [\"u\", \"v\"],\n",
    "          \"u\" : [\"t\", \"v\"],\n",
    "          \"v\" : [\"u\", \"t\"],\n",
    "          \"s\" : [\"r\"]\n",
    "        }\n",
    "\n",
    "print(graph)"
   ]
  },
  {
   "cell_type": "markdown",
   "metadata": {},
   "source": [
    "## Menampilkan simpul ganda"
   ]
  },
  {
   "cell_type": "code",
   "execution_count": 4,
   "metadata": {},
   "outputs": [
    {
     "name": "stdout",
     "output_type": "stream",
     "text": [
      "['o', 'p', 'q', 'r', 't', 'u', 'v', 's']\n"
     ]
    }
   ],
   "source": [
    "class graph:\n",
    "    def __init__(self,gdict=None):\n",
    "        if gdict is None:\n",
    "            gdict = []\n",
    "        self.gdict = gdict\n",
    "        \n",
    "#Get the key of the dictionary\n",
    "    def getVertices(self):\n",
    "        return list(self.gdict.keys())\n",
    "    \n",
    "#Creat the dictionary with graph elements \n",
    "graph_elements = { \"o\" : [\"p\", \"q\"],\n",
    "          \"p\" : [\"o\", \"r\"],\n",
    "          \"q\" : [\"o\", \"r\"],\n",
    "          \"r\" : [\"s\", \"t\"],\n",
    "          \"t\" : [\"u\", \"v\"],\n",
    "          \"u\" : [\"t\", \"v\"],\n",
    "          \"v\" : [\"u\", \"t\"],\n",
    "          \"s\" : [\"r\"]\n",
    "        }\n",
    "\n",
    "g = graph(graph_elements)\n",
    "\n",
    "print(g.getVertices())"
   ]
  },
  {
   "cell_type": "markdown",
   "metadata": {},
   "source": [
    "## Menampikan sudut pada graph"
   ]
  },
  {
   "cell_type": "code",
   "execution_count": 5,
   "metadata": {},
   "outputs": [
    {
     "name": "stdout",
     "output_type": "stream",
     "text": [
      "[{'p', 'o'}, {'q', 'o'}, {'p', 'r'}, {'q', 'r'}, {'r', 's'}, {'r', 't'}, {'u', 't'}, {'v', 't'}, {'u', 'v'}]\n"
     ]
    }
   ],
   "source": [
    "class graph:\n",
    "    def __init__(self,gdict=None):\n",
    "        if gdict is None:\n",
    "            gdict = {}\n",
    "        self.gdict = gdict\n",
    "        \n",
    "    def edges(self):\n",
    "        return self.findedges()\n",
    "    \n",
    "# Find the distinct List of edges\n",
    "    def findedges(self):\n",
    "        edgename = []\n",
    "        for vrtx in self.gdict:\n",
    "            for nxtvrtx in self.gdict[vrtx]:\n",
    "                if{nxtvrtx, vrtx} not in edgename:\n",
    "                    edgename.append({vrtx, nxtvrtx})\n",
    "        return edgename\n",
    "    \n",
    "# Creat the dictionary with graph elements\n",
    "graph_elements = { \"o\" : [\"p\", \"q\"],\n",
    "          \"p\" : [\"o\", \"r\"],\n",
    "          \"q\" : [\"o\", \"r\"],\n",
    "          \"r\" : [\"s\", \"t\"],\n",
    "          \"t\" : [\"u\", \"v\"],\n",
    "          \"u\" : [\"t\", \"v\"],\n",
    "          \"v\" : [\"u\", \"t\"],\n",
    "          \"s\" : [\"r\"]\n",
    "        }\n",
    "\n",
    "g = graph(graph_elements)\n",
    "\n",
    "print(g.edges())"
   ]
  },
  {
   "cell_type": "markdown",
   "metadata": {},
   "source": [
    "## Menambah Vertex / simpul"
   ]
  },
  {
   "cell_type": "code",
   "execution_count": 6,
   "metadata": {},
   "outputs": [
    {
     "name": "stdout",
     "output_type": "stream",
     "text": [
      "['o', 'p', 'q', 'r', 't', 'u', 'v', 's', 'f']\n"
     ]
    }
   ],
   "source": [
    "class graph:\n",
    "    \n",
    "    def __init__(self,gdict=None):\n",
    "        if gdict is None:\n",
    "            gdict = {}\n",
    "        self.gdict = gdict\n",
    "        \n",
    "    def getVertices(self):\n",
    "        return list(self.gdict.keys())\n",
    "    \n",
    "# Add the vertex as a key\n",
    "    def addVertex(self, vrtx):\n",
    "        if vrtx not in self.gdict:\n",
    "            self.gdict[vrtx] = []\n",
    "            \n",
    "# Creat the dictionary with graph elements\n",
    "raph_elements = { \"o\" : [\"p\", \"q\"],\n",
    "          \"p\" : [\"o\", \"r\"],\n",
    "          \"q\" : [\"o\", \"r\"],\n",
    "          \"r\" : [\"s\", \"t\"],\n",
    "          \"t\" : [\"u\", \"v\"],\n",
    "          \"u\" : [\"t\", \"v\"],\n",
    "          \"v\" : [\"u\", \"t\"],\n",
    "          \"s\" : [\"r\"]\n",
    "        }\n",
    "\n",
    "g = graph(graph_elements)\n",
    "\n",
    "g.addVertex(\"f\")\n",
    "\n",
    "print(g.getVertices())"
   ]
  },
  {
   "cell_type": "markdown",
   "metadata": {},
   "source": [
    "## Menambah Edge / Sudut"
   ]
  },
  {
   "cell_type": "code",
   "execution_count": 21,
   "metadata": {},
   "outputs": [],
   "source": [
    "class graph:\n",
    "    \n",
    "    def __init__(self,gdict=None):\n",
    "        if gdict is None:\n",
    "            gdict = {}\n",
    "        self.gdict = gdict\n",
    "        \n",
    "    def edges(self):\n",
    "        return self.findedges()\n",
    "    \n",
    "# Add the new edges\n",
    "    def AddEdge(self, edge):\n",
    "        edge = set(edge)\n",
    "        (vrtx1, vrtx2) = tuple(edge)\n",
    "        if vrtx1 in self.gdict:\n",
    "            self.gdict[vrtx1].append(vrtx2)\n",
    "        else:\n",
    "            self.gdict[vrtx1] = [vrtx2]\n",
    "            \n",
    "# List the egde names\n",
    "    def findedges(self):\n",
    "        edgename = []\n",
    "        for vrtx in self.gdict:\n",
    "            for nxtvrtx in self.gdict[vrtx]:\n",
    "                if {nxtvrtx, vrtx} not in edgename:\n",
    "                    edgename.append({vrtx, nxtvrtx})\n",
    "        return edgename\n",
    "    "
   ]
  },
  {
   "cell_type": "code",
   "execution_count": 22,
   "metadata": {},
   "outputs": [
    {
     "name": "stdout",
     "output_type": "stream",
     "text": [
      "[{'p', 'o'}, {'q', 'o'}, {'p', 'r'}, {'p', 'u'}, {'q', 'r'}, {'q', 's'}, {'r', 's'}, {'r', 't'}, {'u', 't'}, {'v', 't'}, {'u', 'v'}]\n"
     ]
    }
   ],
   "source": [
    "# Creat the dictionary with graph elements\n",
    "graph_elements = { \"o\" : [\"p\", \"q\"],\n",
    "          \"p\" : [\"o\", \"r\"],\n",
    "          \"q\" : [\"o\", \"r\"],\n",
    "          \"r\" : [\"s\", \"t\"],\n",
    "          \"t\" : [\"u\", \"v\"],\n",
    "          \"u\" : [\"t\", \"v\"],\n",
    "          \"v\" : [\"u\", \"t\"],\n",
    "          \"s\" : [\"r\"]\n",
    "        }\n",
    "\n",
    "g = graph(graph_elements)\n",
    "g.AddEdge({'q','s'})\n",
    "g.AddEdge({'u','p'})\n",
    "print(g.edges())"
   ]
  },
  {
   "cell_type": "code",
   "execution_count": null,
   "metadata": {},
   "outputs": [],
   "source": []
  },
  {
   "cell_type": "code",
   "execution_count": null,
   "metadata": {},
   "outputs": [],
   "source": []
  },
  {
   "cell_type": "code",
   "execution_count": null,
   "metadata": {},
   "outputs": [],
   "source": []
  }
 ],
 "metadata": {
  "kernelspec": {
   "display_name": "Python 3",
   "language": "python",
   "name": "python3"
  },
  "language_info": {
   "codemirror_mode": {
    "name": "ipython",
    "version": 3
   },
   "file_extension": ".py",
   "mimetype": "text/x-python",
   "name": "python",
   "nbconvert_exporter": "python",
   "pygments_lexer": "ipython3",
   "version": "3.8.3"
  }
 },
 "nbformat": 4,
 "nbformat_minor": 4
}
