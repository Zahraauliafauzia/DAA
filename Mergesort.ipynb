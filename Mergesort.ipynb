{
 "cells": [
  {
   "cell_type": "markdown",
   "metadata": {},
   "source": [
    "## Tugas DAA Mergesort"
   ]
  },
  {
   "cell_type": "code",
   "execution_count": 11,
   "metadata": {},
   "outputs": [],
   "source": [
    "def merge_sort(list_angka):\n",
    "  jumlah_bilangan =  len(list_angka)\n",
    "  if jumlah_bilangan > 1:\n",
    "    posisi_tengah = len(list_angka)//2\n",
    "    potongan_kiri = list_angka[:posisi_tengah]\n",
    "    potongan_kanan = list_angka[posisi_tengah:]\n",
    "    \n",
    "    merge_sort(potongan_kiri)\n",
    "    merge_sort(potongan_kanan)\n",
    "\n",
    "    jumlah_bilangan_kiri = len(potongan_kiri)\n",
    "    jumlah_bilangan_kanan = len(potongan_kanan)\n",
    "    c_all,c_kiri,c_kanan = 0,0,0 # pencacah\n",
    "    \n",
    "    print('Sebelum merge:',list_angka)  \n",
    "    print('Potongan sebelum merge:',potongan_kiri,':',potongan_kanan)\n",
    "    \n",
    "    while c_kiri < jumlah_bilangan_kiri or c_kanan < jumlah_bilangan_kanan:\n",
    "      if c_kiri == jumlah_bilangan_kiri: # elemen di potongan kiri habis\n",
    "        list_angka[c_all] = potongan_kanan[c_kanan]\n",
    "        c_kanan = c_kanan + 1\n",
    "      elif c_kanan == jumlah_bilangan_kanan: # elemen di potongan kanan habis\n",
    "        list_angka[c_all] = potongan_kiri[c_kiri]\n",
    "        c_kiri = c_kiri + 1\n",
    "      elif potongan_kiri[c_kiri] <= potongan_kanan[c_kanan]: # nilai elemen di potongan kiri lebih kecil\n",
    "        list_angka[c_all] = potongan_kiri[c_kiri]\n",
    "        c_kiri = c_kiri + 1\n",
    "      else: # nilai elemen di potongan kanan lebih besar\n",
    "        list_angka[c_all] = potongan_kanan[c_kanan]\n",
    "        c_kanan = c_kanan + 1\n",
    "      c_all = c_all + 1\n",
    "    \n",
    "    print('Setelah merge:', list_angka)\n",
    "    print()\n",
    "          "
   ]
  },
  {
   "cell_type": "code",
   "execution_count": 12,
   "metadata": {},
   "outputs": [
    {
     "name": "stdout",
     "output_type": "stream",
     "text": [
      "Sebelum sort: [21, 5, 9, 16, 30, 7]\n",
      "Sebelum merge: [5, 9]\n",
      "Potongan sebelum merge: [5] : [9]\n",
      "Setelah merge: [5, 9]\n",
      "\n",
      "Sebelum merge: [21, 5, 9]\n",
      "Potongan sebelum merge: [21] : [5, 9]\n",
      "Setelah merge: [5, 9, 21]\n",
      "\n",
      "Sebelum merge: [30, 7]\n",
      "Potongan sebelum merge: [30] : [7]\n",
      "Setelah merge: [7, 30]\n",
      "\n",
      "Sebelum merge: [16, 30, 7]\n",
      "Potongan sebelum merge: [16] : [7, 30]\n",
      "Setelah merge: [7, 16, 30]\n",
      "\n",
      "Sebelum merge: [21, 5, 9, 16, 30, 7]\n",
      "Potongan sebelum merge: [5, 9, 21] : [7, 16, 30]\n",
      "Setelah merge: [5, 7, 9, 16, 21, 30]\n",
      "\n",
      "Setelah sort: [5, 7, 9, 16, 21, 30]\n"
     ]
    }
   ],
   "source": [
    "angka = [21, 5, 9, 16, 30, 7]\n",
    "print('Sebelum sort:',angka)\n",
    "merge_sort(angka)\n",
    "print('Setelah sort:',angka)"
   ]
  },
  {
   "cell_type": "code",
   "execution_count": null,
   "metadata": {},
   "outputs": [],
   "source": []
  },
  {
   "cell_type": "code",
   "execution_count": null,
   "metadata": {},
   "outputs": [],
   "source": []
  }
 ],
 "metadata": {
  "kernelspec": {
   "display_name": "Python 3",
   "language": "python",
   "name": "python3"
  },
  "language_info": {
   "codemirror_mode": {
    "name": "ipython",
    "version": 3
   },
   "file_extension": ".py",
   "mimetype": "text/x-python",
   "name": "python",
   "nbconvert_exporter": "python",
   "pygments_lexer": "ipython3",
   "version": "3.8.3"
  }
 },
 "nbformat": 4,
 "nbformat_minor": 4
}
